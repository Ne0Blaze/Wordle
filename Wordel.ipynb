{
 "cells": [
  {
   "cell_type": "code",
   "execution_count": 1,
   "id": "592f5246",
   "metadata": {},
   "outputs": [],
   "source": [
    "import spacy\n",
    "import random\n",
    "eng=spacy.load(\"en_core_web_sm\")\n",
    "eng_list=[word for word in eng.vocab.strings]"
   ]
  },
  {
   "cell_type": "code",
   "execution_count": 2,
   "id": "54d2404e",
   "metadata": {},
   "outputs": [],
   "source": [
    "words=[ word for word in eng_list if len(word)==5 and word.isalpha()]\n",
    "game_update=[word.lower() for word in words]\n",
    "game_update=list(dict.fromkeys(game_update))\n",
    "\n",
    "\n",
    "\n",
    "def start():\n",
    "    first=random.choice(game_update)\n",
    "    if first.endswith('s'):\n",
    "        start()\n",
    "    else:\n",
    "        print(\"Try {}\".format(first))\n",
    "    \n",
    "def guess():\n",
    "    for i in range(3):\n",
    "        test=random.choice(game_update)\n",
    "        print(\"Try {}\".format(test))\n",
    "    \n",
    "def eliminations(alphabets):\n",
    "    pops=[1]\n",
    "    while len(pops)!=0:\n",
    "        pops.clear()\n",
    "        for char  in alphabets:\n",
    "            for word in game_update:\n",
    "                if char in word:\n",
    "                    pops=[game_update.pop(game_update.index(word))]\n",
    "                    \n",
    "    \n",
    "def knowns(alphabets):\n",
    "    pops=[1]\n",
    "    while len(pops)!=0:\n",
    "        pops.clear()\n",
    "        for char in alphabets:\n",
    "            for word in game_update:\n",
    "                if not char in word:\n",
    "                    pops=[game_update.pop(game_update.index(word))]\n",
    "    \n",
    "\n",
    "                    \n",
    "    \n",
    "def known_pos(dic):\n",
    "    pops=[1]\n",
    "    while len(pops)!=0:\n",
    "        pops.clear()\n",
    "        for char in dic:\n",
    "            for word in game_update:\n",
    "                if not(char in word and dic[char] == list(word).index(char)):\n",
    "                    pops=[game_update.pop(game_update.index(word))]\n",
    "                    \n",
    "\n",
    "    \n",
    "    \n",
    "\n"
   ]
  },
  {
   "cell_type": "code",
   "execution_count": null,
   "id": "53865bee",
   "metadata": {},
   "outputs": [
    {
     "name": "stdout",
     "output_type": "stream",
     "text": [
      "Try flesh\n"
     ]
    }
   ],
   "source": [
    "start()\n",
    "\n",
    "\n",
    "x=input(\"Enter Eliminated Alphabets with space: \")\n",
    "elm=x.lower().split()\n",
    "\n",
    "\n",
    "x=input(\"Enter Known Alphabets with sapce: \")\n",
    "kn=x.lower().split()\n",
    "\n",
    "\n",
    "kn_pos={}\n",
    "x=input(\"Enter Known Positions: \")\n",
    "for i in range(int(x)):\n",
    "    key=input(\"Enter Character: \")\n",
    "    value=input(\"Enter Position: \")\n",
    "    kn_pos[key]=int(value)-1\n",
    "kn_pos\n",
    "\n",
    "eliminations(elm)\n",
    "knowns(kn)\n",
    "known_pos(kn_pos)\n",
    "\n",
    "guess()"
   ]
  },
  {
   "cell_type": "code",
   "execution_count": null,
   "id": "d64bc1cd",
   "metadata": {},
   "outputs": [],
   "source": []
  },
  {
   "cell_type": "code",
   "execution_count": null,
   "id": "e3ac4b5e",
   "metadata": {},
   "outputs": [],
   "source": []
  }
 ],
 "metadata": {
  "kernelspec": {
   "display_name": "Python 3 (ipykernel)",
   "language": "python",
   "name": "python3"
  },
  "language_info": {
   "codemirror_mode": {
    "name": "ipython",
    "version": 3
   },
   "file_extension": ".py",
   "mimetype": "text/x-python",
   "name": "python",
   "nbconvert_exporter": "python",
   "pygments_lexer": "ipython3",
   "version": "3.9.7"
  }
 },
 "nbformat": 4,
 "nbformat_minor": 5
}
